{
 "cells": [
  {
   "cell_type": "code",
   "execution_count": 33,
   "metadata": {},
   "outputs": [
    {
     "name": "stderr",
     "output_type": "stream",
     "text": [
      "DEBUG: Starting new HTTPS connection (1): www.googleapis.com:443\n",
      "DEBUG: https://www.googleapis.com:443 \"GET /books/v1/volumes?q=isbn%3A080213825X HTTP/1.1\" 200 None\n"
     ]
    },
    {
     "data": {
      "text/plain": [
       "{'kind': 'books#volumes',\n",
       " 'totalItems': 1,\n",
       " 'items': [{'kind': 'books#volume',\n",
       "   'id': '9GbH3006EvQC',\n",
       "   'etag': '+aH/6XmYw+A',\n",
       "   'selfLink': 'https://www.googleapis.com/books/v1/volumes/9GbH3006EvQC',\n",
       "   'volumeInfo': {'title': 'Four Blondes',\n",
       "    'authors': ['Candace Bushnell'],\n",
       "    'publishedDate': '2001-06',\n",
       "    'description': 'Four very different women endure romantic intrigues, betrayals, liaisons, and victories as they seek love amid the playgrounds of the rich and powerful.',\n",
       "    'industryIdentifiers': [{'type': 'ISBN_10', 'identifier': '080213825X'},\n",
       "     {'type': 'ISBN_13', 'identifier': '9780802138255'}],\n",
       "    'readingModes': {'text': False, 'image': False},\n",
       "    'pageCount': 245,\n",
       "    'printType': 'BOOK',\n",
       "    'categories': ['Fiction'],\n",
       "    'averageRating': 2.5,\n",
       "    'ratingsCount': 14,\n",
       "    'maturityRating': 'NOT_MATURE',\n",
       "    'allowAnonLogging': False,\n",
       "    'contentVersion': '0.1.2.0.preview.0',\n",
       "    'panelizationSummary': {'containsEpubBubbles': False,\n",
       "     'containsImageBubbles': False},\n",
       "    'imageLinks': {'smallThumbnail': 'http://books.google.com/books/content?id=9GbH3006EvQC&printsec=frontcover&img=1&zoom=5&source=gbs_api',\n",
       "     'thumbnail': 'http://books.google.com/books/content?id=9GbH3006EvQC&printsec=frontcover&img=1&zoom=1&source=gbs_api'},\n",
       "    'language': 'en',\n",
       "    'previewLink': 'http://books.google.ca/books?id=9GbH3006EvQC&dq=isbn:080213825X&hl=&cd=1&source=gbs_api',\n",
       "    'infoLink': 'http://books.google.ca/books?id=9GbH3006EvQC&dq=isbn:080213825X&hl=&source=gbs_api',\n",
       "    'canonicalVolumeLink': 'https://books.google.com/books/about/Four_Blondes.html?hl=&id=9GbH3006EvQC'},\n",
       "   'saleInfo': {'country': 'CA',\n",
       "    'saleability': 'NOT_FOR_SALE',\n",
       "    'isEbook': False},\n",
       "   'accessInfo': {'country': 'CA',\n",
       "    'viewability': 'NO_PAGES',\n",
       "    'embeddable': False,\n",
       "    'publicDomain': False,\n",
       "    'textToSpeechPermission': 'ALLOWED',\n",
       "    'epub': {'isAvailable': False},\n",
       "    'pdf': {'isAvailable': False},\n",
       "    'webReaderLink': 'http://play.google.com/books/reader?id=9GbH3006EvQC&hl=&printsec=frontcover&source=gbs_api',\n",
       "    'accessViewStatus': 'NONE',\n",
       "    'quoteSharingAllowed': False},\n",
       "   'searchInfo': {'textSnippet': 'Sex And The City author Candace Bushnell returns to the playgrounds of Manhattan&#39;s powerful and beautiful with her sizzling sensation Four Blondes, which gives an insider&#39;s look at the romantic intrigues, liaisons, and betrayals among the ...'}}]}"
      ]
     },
     "execution_count": 33,
     "metadata": {},
     "output_type": "execute_result"
    }
   ],
   "source": [
    "import requests\n",
    "res = requests.get(\"https://www.googleapis.com/books/v1/volumes\", params={\"q\": \"isbn:080213825X\"})\n",
    "dic = res.json()\n",
    "dic"
   ]
  },
  {
   "cell_type": "code",
   "execution_count": 36,
   "metadata": {},
   "outputs": [
    {
     "data": {
      "text/plain": [
       "'2001-06'"
      ]
     },
     "execution_count": 36,
     "metadata": {},
     "output_type": "execute_result"
    }
   ],
   "source": [
    "dic[\"items\"][0][\"volumeInfo\"][\"averageRating\"]\n",
    "dic[\"items\"][0][\"volumeInfo\"][\"ratingsCount\"]\n",
    "dic[\"items\"][0][\"volumeInfo\"][\"industryIdentifiers\"][1][\"identifier\"]\n",
    "dic[\"items\"][0][\"volumeInfo\"][\"publishedDate\"]\n"
   ]
  },
  {
   "cell_type": "code",
   "execution_count": 25,
   "metadata": {},
   "outputs": [
    {
     "data": {
      "text/plain": [
       "{'kind': 'books#volumes',\n",
       " 'totalItems': 1,\n",
       " 'items': [{'kind': 'books#volume',\n",
       "   'id': '9GbH3006EvQC',\n",
       "   'etag': '3foZVHDU/ss',\n",
       "   'selfLink': 'https://www.googleapis.com/books/v1/volumes/9GbH3006EvQC',\n",
       "   'volumeInfo': {'title': 'Four Blondes',\n",
       "    'authors': ['Candace Bushnell'],\n",
       "    'publishedDate': '2001-06',\n",
       "    'description': 'Four very different women endure romantic intrigues, betrayals, liaisons, and victories as they seek love amid the playgrounds of the rich and powerful.',\n",
       "    'industryIdentifiers': [{'type': 'ISBN_10', 'identifier': '080213825X'},\n",
       "     {'type': 'ISBN_13', 'identifier': '9780802138255'}],\n",
       "    'readingModes': {'text': False, 'image': False},\n",
       "    'pageCount': 245,\n",
       "    'printType': 'BOOK',\n",
       "    'categories': ['Fiction'],\n",
       "    'averageRating': 2.5,\n",
       "    'ratingsCount': 14,\n",
       "    'maturityRating': 'NOT_MATURE',\n",
       "    'allowAnonLogging': False,\n",
       "    'contentVersion': '0.1.2.0.preview.0',\n",
       "    'panelizationSummary': {'containsEpubBubbles': False,\n",
       "     'containsImageBubbles': False},\n",
       "    'imageLinks': {'smallThumbnail': 'http://books.google.com/books/content?id=9GbH3006EvQC&printsec=frontcover&img=1&zoom=5&source=gbs_api',\n",
       "     'thumbnail': 'http://books.google.com/books/content?id=9GbH3006EvQC&printsec=frontcover&img=1&zoom=1&source=gbs_api'},\n",
       "    'language': 'en',\n",
       "    'previewLink': 'http://books.google.ca/books?id=9GbH3006EvQC&dq=isbn:080213825X&hl=&cd=1&source=gbs_api',\n",
       "    'infoLink': 'http://books.google.ca/books?id=9GbH3006EvQC&dq=isbn:080213825X&hl=&source=gbs_api',\n",
       "    'canonicalVolumeLink': 'https://books.google.com/books/about/Four_Blondes.html?hl=&id=9GbH3006EvQC'},\n",
       "   'saleInfo': {'country': 'CA',\n",
       "    'saleability': 'NOT_FOR_SALE',\n",
       "    'isEbook': False},\n",
       "   'accessInfo': {'country': 'CA',\n",
       "    'viewability': 'NO_PAGES',\n",
       "    'embeddable': False,\n",
       "    'publicDomain': False,\n",
       "    'textToSpeechPermission': 'ALLOWED',\n",
       "    'epub': {'isAvailable': False},\n",
       "    'pdf': {'isAvailable': False},\n",
       "    'webReaderLink': 'http://play.google.com/books/reader?id=9GbH3006EvQC&hl=&printsec=frontcover&source=gbs_api',\n",
       "    'accessViewStatus': 'NONE',\n",
       "    'quoteSharingAllowed': False},\n",
       "   'searchInfo': {'textSnippet': 'Sex And The City author Candace Bushnell returns to the playgrounds of Manhattan&#39;s powerful and beautiful with her sizzling sensation Four Blondes, which gives an insider&#39;s look at the romantic intrigues, liaisons, and betrayals among the ...'}}]}"
      ]
     },
     "execution_count": 25,
     "metadata": {},
     "output_type": "execute_result"
    }
   ],
   "source": [
    "dic"
   ]
  },
  {
   "cell_type": "code",
   "execution_count": null,
   "metadata": {},
   "outputs": [],
   "source": []
  }
 ],
 "metadata": {
  "kernelspec": {
   "display_name": "Python 3",
   "language": "python",
   "name": "python3"
  },
  "language_info": {
   "codemirror_mode": {
    "name": "ipython",
    "version": 3
   },
   "file_extension": ".py",
   "mimetype": "text/x-python",
   "name": "python",
   "nbconvert_exporter": "python",
   "pygments_lexer": "ipython3",
   "version": "3.7.3"
  }
 },
 "nbformat": 4,
 "nbformat_minor": 4
}
